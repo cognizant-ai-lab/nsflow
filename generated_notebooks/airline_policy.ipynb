{
 "cells": [
  {
   "cell_type": "markdown",
   "id": "c3dabb47",
   "metadata": {},
   "source": [
    "# Agent Network: airline_policy"
   ]
  },
  {
   "cell_type": "code",
   "execution_count": null,
   "id": "e3517a40",
   "metadata": {},
   "outputs": [],
   "source": [
    "## Uncomment and run the following line if pyhocon and pyvis are not installed\n",
    "# !pip install pyhocon pyvis"
   ]
  },
  {
   "cell_type": "code",
   "execution_count": null,
   "id": "18403992",
   "metadata": {},
   "outputs": [],
   "source": [
    "from pyhocon import ConfigFactory\n",
    "from pyvis.network import Network\n",
    "import json\n",
    "from pathlib import Path\n",
    "import IPython.display\n"
   ]
  },
  {
   "cell_type": "code",
   "execution_count": null,
   "id": "a1afe3c9",
   "metadata": {},
   "outputs": [],
   "source": [
    "file_path = Path('/Users/228496/Desktop/all_projects/nsflow/registries/airline_policy.hocon')\n",
    "config = ConfigFactory.parse_file(str(file_path))\n",
    "IPython.display.JSON(config)"
   ]
  },
  {
   "cell_type": "code",
   "execution_count": null,
   "id": "3363f3c2",
   "metadata": {},
   "outputs": [],
   "source": [
    "net = Network(notebook=True, directed=True)\n",
    "tools = config.get('tools', [])\n",
    "\n",
    "# Add nodes\n",
    "for tool in tools:\n",
    "    agent_id = tool.get('name', 'unknown_agent')\n",
    "    net.add_node(agent_id, label=agent_id)\n",
    "\n",
    "# Add edges\n",
    "for tool in tools:\n",
    "    agent_id = tool.get('name', 'unknown_agent')\n",
    "    for child in tool.get('tools', []):\n",
    "        net.add_edge(agent_id, child)\n",
    "\n",
    "# Generate visualization\n",
    "net.show('agent_network.html')"
   ]
  }
 ],
 "metadata": {},
 "nbformat": 4,
 "nbformat_minor": 5
}
